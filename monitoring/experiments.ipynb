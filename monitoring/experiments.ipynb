{
 "cells": [
  {
   "cell_type": "markdown",
   "metadata": {},
   "source": [
    "#"
   ]
  },
  {
   "cell_type": "markdown",
   "metadata": {},
   "source": [
    "# Car Data Monitoring Experiments\n",
    "\n",
    "This notebook aims at experimenting with the data obtained from the car data recorder."
   ]
  },
  {
   "cell_type": "code",
   "execution_count": 1,
   "metadata": {},
   "outputs": [],
   "source": [
    "import polars as pl\n",
    "import plotly.express as px"
   ]
  },
  {
   "cell_type": "code",
   "execution_count": null,
   "metadata": {},
   "outputs": [],
   "source": [
    "df = pl.read_csv(\n",
    "    \"/Users/leopnt/Downloads/0bbce73/gps/2025-02-05T074234Z.csv\",\n",
    "    try_parse_dates=True,\n",
    ")\n",
    "\n",
    "df"
   ]
  },
  {
   "cell_type": "markdown",
   "metadata": {},
   "source": [
    "## Time stability"
   ]
  },
  {
   "cell_type": "markdown",
   "metadata": {},
   "source": [
    "First, let's explore the most important reference variable: datetime and millis. Are they stable?\n",
    "\n",
    "In the firmware code, there are 3 clocks:\n",
    "- The internal ESP32 clock, which is independant of external sources but may drift against true time\n",
    "- The GPS clock, which is synced with satellite clock information internaly, every time it receives a signal.\n",
    "- A software wrapper, that I coded on top of a Clock library, is synced when the GPS gives updates. It uses the internal ESP32 clock to add millisecond precision.\n",
    "\n",
    "To ensure that all information is available, I log every event with the synced software clock's timestamp. But I also add the internal ESP32 clock as a backup measure.\n",
    "Let's see if this clocks are in sync."
   ]
  },
  {
   "cell_type": "code",
   "execution_count": null,
   "metadata": {},
   "outputs": [],
   "source": [
    "fig = px.scatter(data_frame=df, x='datetime', y='millis', title=\"Millis() vs time\")\n",
    "fig.show()"
   ]
  },
  {
   "cell_type": "markdown",
   "metadata": {},
   "source": [
    "Looking at the two timestamps from a trip recording, we can see that\n",
    "- A few minutes of data are missing. This is due to GPS Signal loss. Not a big deal here, since 1 minute of data will probably be filled thanks to dead reckoning with other sensors and CAN Bus data.\n",
    "- It looks like there is no significative drift between the two clocks since we have a clean straight line. This is good.\n",
    "\n",
    "Now let's take a look at the delta time, which will give us a more precise look. There should be the same time variations for each clock."
   ]
  },
  {
   "cell_type": "code",
   "execution_count": 4,
   "metadata": {},
   "outputs": [],
   "source": [
    "df = df.with_columns(\n",
    "    delta_time=pl.col('datetime').diff(),\n",
    "    delta_millis=pl.duration(milliseconds=(pl.col('millis').diff()))\n",
    ")"
   ]
  },
  {
   "cell_type": "code",
   "execution_count": null,
   "metadata": {},
   "outputs": [],
   "source": [
    "fig = px.ecdf(\n",
    "    df.with_columns(\n",
    "        pl.col(\"delta_time\").cast(pl.Float32) / 1000000,\n",
    "        pl.col(\"delta_millis\").cast(pl.Float32) / 1000000\n",
    "    ), x=['delta_time', 'delta_millis'],\n",
    "    title='Time variations of the two clocks')\n",
    "fig.update_layout(xaxis_range=[0.0, 2.0])\n",
    "fig.show()"
   ]
  },
  {
   "cell_type": "markdown",
   "metadata": {},
   "source": [
    "Zooming at the data between 0s and 2s, we can see that the clocks are fairly stable around 1s. I don't know why the internal ESP32 clock is not fully aligned with the software one. I believed it is induced by software processing or GPS synchronization in between.\n",
    "\n",
    "I can see that the software clock is much more stable than I would have anticipated.\n",
    "Outliers for the software clocks are most probably due to GPS loss as seen with previous plots."
   ]
  },
  {
   "cell_type": "markdown",
   "metadata": {},
   "source": []
  }
 ],
 "metadata": {
  "kernelspec": {
   "display_name": "env",
   "language": "python",
   "name": "python3"
  },
  "language_info": {
   "codemirror_mode": {
    "name": "ipython",
    "version": 3
   },
   "file_extension": ".py",
   "mimetype": "text/x-python",
   "name": "python",
   "nbconvert_exporter": "python",
   "pygments_lexer": "ipython3",
   "version": "3.11.11"
  }
 },
 "nbformat": 4,
 "nbformat_minor": 2
}
