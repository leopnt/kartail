{
 "cells": [
  {
   "cell_type": "markdown",
   "metadata": {},
   "source": [
    "#"
   ]
  },
  {
   "cell_type": "markdown",
   "metadata": {},
   "source": [
    "# Car Data Monitoring Experiments\n",
    "\n",
    "This notebook aims at experimenting with the data obtained from the car data recorder."
   ]
  },
  {
   "cell_type": "code",
   "execution_count": null,
   "metadata": {},
   "outputs": [],
   "source": [
    "from glob import glob\n",
    "import numpy as np\n",
    "import polars as pl\n",
    "import plotly.express as px"
   ]
  },
  {
   "cell_type": "code",
   "execution_count": null,
   "metadata": {},
   "outputs": [],
   "source": [
    "files = sorted(glob(\"/Volumes/KARTAIL/gps/*.csv\"))\n",
    "dfs = []\n",
    "for file in files:\n",
    "    try:\n",
    "        dfs.append(pl.read_csv(file))\n",
    "    except pl.exceptions.NoDataError:\n",
    "        print(f\"Skipped empty dataframe: {file}\")\n",
    "\n",
    "df: pl.DataFrame = pl.concat(dfs)\n",
    "\n",
    "df = df.with_columns(pl.col(\"datetime\").str.to_datetime(strict=False))\n",
    "df = df.sort(by=[\"session\", \"millis\"])\n",
    "df = df.drop_nulls(subset=[\"datetime\"])\n",
    "\n",
    "#df = df.filter(\n",
    "#    (pl.col(\"session\") == pl.max(\"session\"))\n",
    "#    | (pl.col(\"session\") == pl.max(\"session\") - 1)\n",
    "#)\n",
    "\n",
    "df"
   ]
  },
  {
   "cell_type": "markdown",
   "metadata": {},
   "source": [
    "## Time stability"
   ]
  },
  {
   "cell_type": "markdown",
   "metadata": {},
   "source": [
    "First, let's explore the most important reference variable: datetime and millis. Are they stable?\n",
    "\n",
    "In the firmware code, there are 3 clocks:\n",
    "- The internal ESP32 clock, which is independant of external sources but may drift against true time\n",
    "- The GPS clock, which is synced with satellite clock information internaly, every time it receives a signal.\n",
    "- A software wrapper, that I coded on top of a Clock library, is synced when the GPS gives updates. It uses the internal ESP32 clock to add millisecond precision.\n",
    "\n",
    "To ensure that all information is available, I log every event with the synced software clock's timestamp. But I also add the internal ESP32 clock as a backup measure.\n",
    "Let's see if this clocks are in sync."
   ]
  },
  {
   "cell_type": "code",
   "execution_count": null,
   "metadata": {},
   "outputs": [],
   "source": [
    "fig = px.scatter(data_frame=df, x='datetime', y='millis', title=\"Millis() vs time\")\n",
    "fig.show()"
   ]
  },
  {
   "cell_type": "markdown",
   "metadata": {},
   "source": [
    "Looking at the two timestamps from a trip recording, we can see that\n",
    "- A few minutes of data are missing. This is due to GPS Signal loss. Not a big deal here, since 1 minute of data will probably be filled thanks to dead reckoning with other sensors and CAN Bus data.\n",
    "- It looks like there is no significative drift between the two clocks since we have a clean straight line. This is good.\n",
    "\n",
    "Now let's take a look at the delta time, which will give us a more precise look. There should be the same time variations for each clock."
   ]
  },
  {
   "cell_type": "code",
   "execution_count": null,
   "metadata": {},
   "outputs": [],
   "source": [
    "df = df.with_columns(\n",
    "    delta_time_gps=pl.col('datetime').diff(),\n",
    "    delta_time_millis=pl.duration(milliseconds=(pl.col('millis').diff()))\n",
    ")"
   ]
  },
  {
   "cell_type": "code",
   "execution_count": null,
   "metadata": {},
   "outputs": [],
   "source": [
    "fig = px.ecdf(\n",
    "    df.with_columns(\n",
    "        pl.col(\"delta_time_gps\").cast(pl.Float32) / 1000000,\n",
    "        pl.col(\"delta_time_millis\").cast(pl.Float32) / 1000000\n",
    "    ), x=['delta_time_gps', 'delta_time_millis'],\n",
    "    title='Time variations of the two clocks')\n",
    "fig.update_layout(xaxis_range=[0.0, 2.0])\n",
    "fig.show()"
   ]
  },
  {
   "cell_type": "markdown",
   "metadata": {},
   "source": [
    "Zooming at the data between 0s and 2s, we can see that the clocks are fairly stable around 1s."
   ]
  },
  {
   "cell_type": "code",
   "execution_count": null,
   "metadata": {},
   "outputs": [],
   "source": [
    "EARTH_RADIUS = 6371000\n",
    "\n",
    "def haversine_delta_np(dlat, dlon, lat):\n",
    "    lat = np.radians(lat)\n",
    "    dlat = np.radians(dlat)\n",
    "    dlon = np.radians(dlon)\n",
    "\n",
    "    a = np.sin(dlat/2.0)**2 + np.cos(lat) * np.cos(lat + dlat) * np.sin(dlon/2.0)**2\n",
    "    c = 2 * np.arctan2(np.sqrt(a), np.sqrt(1 - a))\n",
    "\n",
    "    return EARTH_RADIUS * c\n",
    "\n",
    "def distance_3d_from_deltas(dlat, dlon, dalt, lat):\n",
    "    surface = haversine_delta_np(dlat, dlon, lat)\n",
    "    return np.sqrt(surface**2 + dalt**2)"
   ]
  },
  {
   "cell_type": "code",
   "execution_count": null,
   "metadata": {},
   "outputs": [],
   "source": [
    "df = df.with_columns([\n",
    "    pl.col(\"latitude\").diff().alias(\"delta_lat\"),\n",
    "    pl.col(\"longitude\").diff().alias(\"delta_lon\"),\n",
    "    pl.col(\"altitude\").diff().alias(\"delta_alt\"),\n",
    "]).drop_nulls(subset=[\"delta_lat\"])\n",
    "\n",
    "df = df.with_columns([\n",
    "    pl.struct([\"delta_lat\", \"delta_lon\", \"delta_alt\", \"latitude\"]).map_elements(\n",
    "        lambda x: distance_3d_from_deltas(\n",
    "            x[\"delta_lat\"], x[\"delta_lon\"], x[\"delta_alt\"], x[\"latitude\"]\n",
    "        ),\n",
    "        return_dtype=pl.Float64\n",
    "    ).alias(\"distance_meters\"),\n",
    "])\n",
    "\n",
    "df"
   ]
  },
  {
   "cell_type": "code",
   "execution_count": null,
   "metadata": {},
   "outputs": [],
   "source": [
    "df_tmp = df.group_by(\n",
    "    pl.col(\"session\")\n",
    ").agg(\n",
    "    pl.sum(\"distance_meters\").alias(\"total_distance\")\n",
    ").filter(\n",
    "    (pl.col(\"total_distance\") < 15_000)\n",
    "    & (pl.col(\"total_distance\") > 8_000)\n",
    ")\n",
    "\n",
    "fig = px.box(\n",
    "    x=df_tmp[\"total_distance\"],\n",
    ")\n",
    "\n",
    "fig.show()"
   ]
  },
  {
   "cell_type": "code",
   "execution_count": null,
   "metadata": {},
   "outputs": [],
   "source": [
    "df_tmp"
   ]
  },
  {
   "cell_type": "markdown",
   "metadata": {},
   "source": []
  },
  {
   "cell_type": "code",
   "execution_count": null,
   "metadata": {},
   "outputs": [],
   "source": [
    "df_test = pl.read_csv(\"/Volumes/KARTAIL/imu/32.csv\")\n",
    "df_test = df_test.with_columns(\n",
    "    (pl.col(\"millis\") * 1_000_000).cast(pl.Time())\n",
    ")"
   ]
  },
  {
   "cell_type": "code",
   "execution_count": null,
   "metadata": {},
   "outputs": [],
   "source": [
    "df_test"
   ]
  },
  {
   "cell_type": "code",
   "execution_count": null,
   "metadata": {},
   "outputs": [],
   "source": [
    "df_tmp = df.filter(\n",
    "    pl.col(\"session\") == 32\n",
    ")\n",
    "df_tmp = df_tmp.with_columns(\n",
    "    (pl.col(\"millis\") * 1_000_000).cast(pl.Time())\n",
    ")\n",
    "\n",
    "fig = px.line(\n",
    "    x=df_tmp[\"millis\"],\n",
    "    y=df_tmp[\"altitude\"]\n",
    ")\n",
    "\n",
    "fig.show()\n",
    "\n",
    "fig = px.line(\n",
    "    x=df_test[\"millis\"],\n",
    "    y=df_test[\"mx\"]\n",
    ")\n",
    "\n",
    "fig.show()"
   ]
  },
  {
   "cell_type": "code",
   "execution_count": null,
   "metadata": {},
   "outputs": [],
   "source": []
  }
 ],
 "metadata": {
  "kernelspec": {
   "display_name": "env",
   "language": "python",
   "name": "python3"
  },
  "language_info": {
   "codemirror_mode": {
    "name": "ipython",
    "version": 3
   },
   "file_extension": ".py",
   "mimetype": "text/x-python",
   "name": "python",
   "nbconvert_exporter": "python",
   "pygments_lexer": "ipython3",
   "version": "3.11.11"
  }
 },
 "nbformat": 4,
 "nbformat_minor": 2
}
